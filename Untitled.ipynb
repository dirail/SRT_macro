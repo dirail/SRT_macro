{
 "cells": [
  {
   "cell_type": "code",
   "execution_count": 11,
   "id": "754d8908-1a8e-497f-863f-411cbc8f40d2",
   "metadata": {},
   "outputs": [
    {
     "data": {
      "text/plain": [
       "'20240309'"
      ]
     },
     "execution_count": 11,
     "metadata": {},
     "output_type": "execute_result"
    }
   ],
   "source": [
    "import pandas as pd\n",
    "te = \"20240309\"\n",
    "te"
   ]
  },
  {
   "cell_type": "code",
   "execution_count": 8,
   "id": "ea43a47d-f0cb-4486-a718-8e596c8342b0",
   "metadata": {},
   "outputs": [
    {
     "name": "stdout",
     "output_type": "stream",
     "text": [
      "2024\n"
     ]
    }
   ],
   "source": [
    "print(f\"{te[:4]}\")"
   ]
  },
  {
   "cell_type": "code",
   "execution_count": 16,
   "id": "53572e9d-6195-4d63-9f14-f12ffcda2bad",
   "metadata": {},
   "outputs": [
    {
     "name": "stdout",
     "output_type": "stream",
     "text": [
      "2024-03-09 00:00:00\n"
     ]
    }
   ],
   "source": [
    "print ( pd.to_datetime(te, format=\"%Y%m%d\") )"
   ]
  },
  {
   "cell_type": "code",
   "execution_count": null,
   "id": "57e628e4-bf30-4d7e-bdce-6d11a3387463",
   "metadata": {},
   "outputs": [],
   "source": []
  }
 ],
 "metadata": {
  "kernelspec": {
   "display_name": "Python 3 (ipykernel)",
   "language": "python",
   "name": "python3"
  },
  "language_info": {
   "codemirror_mode": {
    "name": "ipython",
    "version": 3
   },
   "file_extension": ".py",
   "mimetype": "text/x-python",
   "name": "python",
   "nbconvert_exporter": "python",
   "pygments_lexer": "ipython3",
   "version": "3.11.8"
  }
 },
 "nbformat": 4,
 "nbformat_minor": 5
}
